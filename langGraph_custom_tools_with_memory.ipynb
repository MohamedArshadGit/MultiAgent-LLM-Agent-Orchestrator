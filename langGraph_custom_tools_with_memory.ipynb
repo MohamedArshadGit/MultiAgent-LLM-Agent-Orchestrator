{
 "cells": [
  {
   "cell_type": "markdown",
   "id": "a1ed8937",
   "metadata": {},
   "source": [
    "#### Stateful LangGraph + Gradio chatbot with ChatOpenAI LLM, tool integration (search & push), and persistent memory\n"
   ]
  },
  {
   "cell_type": "markdown",
   "id": "cbae4c5e",
   "metadata": {},
   "source": [
    "\"\"\"\n",
    "LangGraph + Gradio Chatbot\n",
    "\n",
    "This script implements a stateful chatbot using LangGraph and Gradio with the following features:\n",
    "\n",
    "1. LLM Integration:\n",
    "   - Uses ChatOpenAI ('gpt-4o-mini') as the language model.\n",
    "   - Binds tools to the LLM for dynamic tool execution during conversation.\n",
    "\n",
    "2. Tools:\n",
    "   - Google Serper API for online search queries.\n",
    "   - Pushover API to send push notifications.\n",
    "\n",
    "3. State Management:\n",
    "   - Defines a TypedDict 'State' to track conversation messages.\n",
    "   - Uses 'add_messages' reducer to append messages to state history.\n",
    "   - Employs MemorySaver to persist the state across sessions.\n",
    "\n",
    "4. Graph Architecture:\n",
    "   - Builds a StateGraph with nodes:\n",
    "       - 'chatbot': invokes the LLM and updates messages.\n",
    "       - 'tools': executes bound tools when triggered.\n",
    "   - Conditional edges ensure that after a tool is executed, control returns to the chatbot.\n",
    "   - START → chatbot → (tools if needed) → chatbot → END loop.\n",
    "\n",
    "5. User Interface:\n",
    "   - Gradio ChatInterface wraps the chatbot function.\n",
    "   - Displays a chat UI that interacts with the LangGraph message graph.\n",
    "\n",
    "6. Execution:\n",
    "   - Invoking 'chat(user_input, history)' updates the state and returns the latest LLM response.\n",
    "   - Graph visualization rendered via IPython display for debugging.\n",
    "\"\"\"\n"
   ]
  },
  {
   "cell_type": "code",
   "execution_count": 13,
   "id": "5155c248",
   "metadata": {},
   "outputs": [],
   "source": [
    "from typing import Annotated,TypedDict\n",
    "from pydantic import BaseModel\n",
    "from langgraph.graph import StateGraph,START,END\n",
    "from langgraph.graph.message import add_messages\n",
    "from langgraph.prebuilt import ToolNode,tools_condition\n",
    "from langchain_openai import ChatOpenAI\n",
    "import requests\n",
    "import os\n",
    "import gradio as gr\n",
    "from IPython.display import Image,display\n",
    "from dotenv import load_dotenv"
   ]
  },
  {
   "cell_type": "code",
   "execution_count": 3,
   "id": "3617c761",
   "metadata": {},
   "outputs": [
    {
     "data": {
      "text/plain": [
       "True"
      ]
     },
     "execution_count": 3,
     "metadata": {},
     "output_type": "execute_result"
    }
   ],
   "source": [
    "load_dotenv(override=True)"
   ]
  },
  {
   "cell_type": "code",
   "execution_count": 4,
   "id": "d968b8cc",
   "metadata": {},
   "outputs": [],
   "source": [
    "from langchain_community.utilities import GoogleSerperAPIWrapper\n",
    "\n",
    "serper =GoogleSerperAPIWrapper()\n",
    "\n",
    "from langchain.agents import Tool\n",
    "\n",
    "tool_search =Tool(name=\"search\",\n",
    "func=serper.run,\n",
    "description=\"search when online info is needed\"\n",
    ")\n",
    "\n"
   ]
  },
  {
   "cell_type": "code",
   "execution_count": 6,
   "id": "e62b57c6",
   "metadata": {},
   "outputs": [
    {
     "data": {
      "text/plain": [
       "\"Narendra Damodardas Modi (born 17 September 1950) is an Indian politician who has served as the prime minister of India since 2014. Narasimha Rao, Atal Bihari Vajpayee, Manmohan Singh, and Narendra Modi, who is the current prime minister of India, serving since 26 May 2014. He is the first ... Narendra Modi is the 14th prime minister of India. His Hindu nationalist policies and some of his economic reforms have proved controversial to many within ... Shri Narendra Modi was sworn-in as India's Prime Minister for the third time on 9th June 2024, following another decisive victory in the 2024 Parliamentary ... PM Narendra Modi was sworn-in as the Prime Minister of India on 30th May 2019, marking the start of his second term in office. The first ever Prime Minister ... Missing: current | Show results with:current. Indian leader Narendra Modi was sworn in for 3rd term as prime minister With his power curbed, and leading a coalition government, Indian Prime ... Shri Narendra Modi was sworn-in as India's Prime Minister on 30th May 2019, marking the start of his second term in office. The first ever Prime Minister to ... Modi wins 3rd term as India's prime minister, but party losses could affect how he governs. India has reelected Narendra Modi as prime minister ... Currently, Narendra Modi is the Prime Minister of India, having been in office since 2014. He is the 14th Prime Minister of India who had three ... History was scripted in the forecourt of Rashtrapati Bhawan on the evening of 26th May 2014 as Narendra Modi took oath as the Prime Minister of India after ...\""
      ]
     },
     "execution_count": 6,
     "metadata": {},
     "output_type": "execute_result"
    }
   ],
   "source": [
    "tool_search.invoke(\"who is current pm of india and what year he was elected?\")"
   ]
  },
  {
   "cell_type": "code",
   "execution_count": 7,
   "id": "3410d46b",
   "metadata": {},
   "outputs": [],
   "source": [
    "pushover_user =os.getenv('PUSHOVER_USER')\n",
    "pushover_api=os.getenv('PUSHOVER_API')\n",
    "pushover_url = \"https://api.pushover.net/1/messages.json\"\n",
    "\n",
    "def push(text:str):\n",
    "    requests.post(url=pushover_url,data={\"token\":pushover_api,\"user\":pushover_user,\"message\":text})\n",
    "    "
   ]
  },
  {
   "cell_type": "code",
   "execution_count": 8,
   "id": "b0cb848d",
   "metadata": {},
   "outputs": [],
   "source": [
    "tool_push =Tool(\n",
    "    name=\"push_notifications\",\n",
    "    func=push,\n",
    "    description=\"sends push notification when hit\"\n",
    ")\n",
    "\n"
   ]
  },
  {
   "cell_type": "code",
   "execution_count": 9,
   "id": "1c4c1d48",
   "metadata": {},
   "outputs": [],
   "source": [
    "tool_push.invoke(\"Hi checking\")"
   ]
  },
  {
   "cell_type": "code",
   "execution_count": 10,
   "id": "9dd8fa2e",
   "metadata": {},
   "outputs": [],
   "source": [
    "tools=[tool_search,tool_push]\n"
   ]
  },
  {
   "cell_type": "code",
   "execution_count": 12,
   "id": "dc984b78",
   "metadata": {},
   "outputs": [],
   "source": [
    "llm =ChatOpenAI(model='gpt-4o-mini')\n",
    "llm_with_tools =llm.bind_tools(tools=tools)"
   ]
  },
  {
   "cell_type": "markdown",
   "id": "78101aba",
   "metadata": {},
   "source": [
    "Add Memory\n"
   ]
  },
  {
   "cell_type": "code",
   "execution_count": 29,
   "id": "9ce7bacd",
   "metadata": {},
   "outputs": [],
   "source": [
    "from langgraph.checkpoint.memory import MemorySaver\n",
    "\n",
    "memory=MemorySaver()\n"
   ]
  },
  {
   "cell_type": "markdown",
   "id": "c3124952",
   "metadata": {},
   "source": [
    "Build State"
   ]
  },
  {
   "cell_type": "code",
   "execution_count": 30,
   "id": "fda693ee",
   "metadata": {},
   "outputs": [],
   "source": [
    "class State(TypedDict):\n",
    "    messages: Annotated[list,add_messages]\n",
    "    "
   ]
  },
  {
   "cell_type": "markdown",
   "id": "b47aab67",
   "metadata": {},
   "source": [
    "Build Graph"
   ]
  },
  {
   "cell_type": "code",
   "execution_count": 31,
   "id": "68e71e36",
   "metadata": {},
   "outputs": [],
   "source": [
    "graph_builder = StateGraph(State)"
   ]
  },
  {
   "cell_type": "code",
   "execution_count": 32,
   "id": "eaa9f8ea",
   "metadata": {},
   "outputs": [],
   "source": [
    "def chatbot(state:State):\n",
    "    return {\"messages\":[llm_with_tools.invoke(state['messages'])]} #LangGraph expects each node to output a dictionary of key-value pairs that match the State schema. Keys: which part of the state you’re updating. Values: what you’re adding or overwriting.\n",
    "    \n",
    "    #notes\n",
    "    #If you only returned a string, object, or list (like just llm_with_tools.invoke(...)), the framework wouldn’t know:\n",
    "\n",
    "    # Which key of the state it belongs to.\n",
    "\n",
    "    # How to merge it with the rest of the graph’s state.\n",
    "\n",
    "    # Whether to append, replace, or ignore it.\n",
    "\n",
    "    # In your state definition:\n",
    "\n",
    "    # messages: Annotated[list, add_messages]\n",
    "\n",
    "\n",
    "    # add_messages means append to list rather than replace it.\n",
    "\n",
    "    # So LangGraph expects each node to return a list of new messages (not a single message), so it can append them to the conversation history.\n",
    "\n",
    "    # Hence you must wrap it like:\n",
    "\n",
    "    # {\"messages\": [new_message]}\n",
    "    # If you instead returned just:\n",
    "\n",
    "    # {\"messages\": new_message}\n",
    "\n",
    "\n",
    "    # it would fail or overwrite the list entirely, depending on the reducer."
   ]
  },
  {
   "cell_type": "code",
   "execution_count": 33,
   "id": "bbad03ea",
   "metadata": {},
   "outputs": [
    {
     "data": {
      "text/plain": [
       "<langgraph.graph.state.StateGraph at 0x21b923818e0>"
      ]
     },
     "execution_count": 33,
     "metadata": {},
     "output_type": "execute_result"
    }
   ],
   "source": [
    "graph_builder.add_node(\"chatbot\",chatbot)\n",
    "graph_builder.add_node(\"tools\",ToolNode(tools=tools))\n",
    "\n",
    "graph_builder.add_edge(START,'chatbot')\n",
    "graph_builder.add_conditional_edges('chatbot',tools_condition,\"tools\")\n",
    "graph_builder.add_edge('tools','chatbot')\n",
    "graph_builder.add_edge('chatbot',END)\n",
    "\n"
   ]
  },
  {
   "cell_type": "code",
   "execution_count": 34,
   "id": "f346aab4",
   "metadata": {},
   "outputs": [
    {
     "data": {
      "image/png": "[encoded data removed]",
      "text/plain": [
       "<IPython.core.display.Image object>"
      ]
     },
     "metadata": {},
     "output_type": "display_data"
    }
   ],
   "source": [
    "graph=graph_builder.compile(checkpointer=memory)\n",
    "display(Image(graph.get_graph().draw_mermaid_png()))"
   ]
  },
  {
   "cell_type": "code",
   "execution_count": 35,
   "id": "f66af630",
   "metadata": {},
   "outputs": [],
   "source": [
    "config={\"configurable\":{\"thread_id\":\"1\"}}"
   ]
  },
  {
   "cell_type": "code",
   "execution_count": 36,
   "id": "565a03f7",
   "metadata": {},
   "outputs": [
    {
     "name": "stdout",
     "output_type": "stream",
     "text": [
      "* Running on local URL:  http://127.0.0.1:7860\n",
      "* To create a public link, set `share=True` in `launch()`.\n"
     ]
    },
    {
     "data": {
      "text/html": [
       "<div><iframe src=\"http://127.0.0.1:7860/\" width=\"100%\" height=\"500\" allow=\"autoplay; camera; microphone; clipboard-read; clipboard-write;\" frameborder=\"0\" allowfullscreen></iframe></div>"
      ],
      "text/plain": [
       "<IPython.core.display.HTML object>"
      ]
     },
     "metadata": {},
     "output_type": "display_data"
    },
    {
     "data": {
      "text/plain": []
     },
     "execution_count": 36,
     "metadata": {},
     "output_type": "execute_result"
    }
   ],
   "source": [
    "def chat(user_input:str,history):\n",
    "    result = graph.invoke({\"messages\":[{\"role\":\"user\",\"content\":user_input}]},config=config)\n",
    "    return result['messages'][-1].content\n",
    "\n",
    "gr.ChatInterface(chat,type='messages').launch()"
   ]
  },
  {
   "cell_type": "code",
   "execution_count": 37,
   "id": "7bc1ac8b",
   "metadata": {},
   "outputs": [
    {
     "data": {
      "image/png": "[encoded data removed]",
      "text/plain": [
       "<IPython.core.display.Image object>"
      ]
     },
     "metadata": {},
     "output_type": "display_data"
    },
    {
     "name": "stdout",
     "output_type": "stream",
     "text": [
      "* Running on local URL:  http://127.0.0.1:7861\n",
      "* To create a public link, set `share=True` in `launch()`.\n"
     ]
    },
    {
     "data": {
      "text/html": [
       "<div><iframe src=\"http://127.0.0.1:7861/\" width=\"100%\" height=\"500\" allow=\"autoplay; camera; microphone; clipboard-read; clipboard-write;\" frameborder=\"0\" allowfullscreen></iframe></div>"
      ],
      "text/plain": [
       "<IPython.core.display.HTML object>"
      ]
     },
     "metadata": {},
     "output_type": "display_data"
    },
    {
     "data": {
      "text/plain": []
     },
     "execution_count": 37,
     "metadata": {},
     "output_type": "execute_result"
    }
   ],
   "source": [
    "#### Stateful LangGraph + Gradio chatbot with ChatOpenAI LLM, tool integration (search & push), persistent memory, and detailed logging\n",
    "\n",
    "from typing import Annotated, TypedDict\n",
    "from langgraph.graph import StateGraph, START, END\n",
    "from langgraph.graph.message import add_messages\n",
    "from langgraph.prebuilt import ToolNode, tools_condition\n",
    "from langchain_openai import ChatOpenAI\n",
    "from langchain.agents import Tool\n",
    "from langchain_community.utilities import GoogleSerperAPIWrapper\n",
    "from langgraph.checkpoint.memory import MemorySaver\n",
    "import requests\n",
    "import os\n",
    "import gradio as gr\n",
    "from IPython.display import Image, display\n",
    "from dotenv import load_dotenv\n",
    "import logging\n",
    "from copy import deepcopy\n",
    "\n",
    "# ----------------------------\n",
    "# Load environment variables\n",
    "# ----------------------------\n",
    "load_dotenv(override=True)\n",
    "pushover_user = os.getenv('PUSHOVER_USER')\n",
    "pushover_api = os.getenv('PUSHOVER_API')\n",
    "pushover_url = \"https://api.pushover.net/1/messages.json\"\n",
    "\n",
    "# ----------------------------\n",
    "# Setup Logging\n",
    "# ----------------------------\n",
    "os.makedirs(\"logs\", exist_ok=True)\n",
    "logging.basicConfig(\n",
    "    filename=\"logs/langgraph_detailed.log\",\n",
    "    level=logging.INFO,\n",
    "    format=\"%(asctime)s | %(levelname)s | %(message)s\"\n",
    ")\n",
    "logger = logging.getLogger(__name__)\n",
    "\n",
    "# ----------------------------\n",
    "# Tools\n",
    "# ----------------------------\n",
    "serper = GoogleSerperAPIWrapper()\n",
    "\n",
    "def push(text: str):\n",
    "    requests.post(\n",
    "        url=pushover_url,\n",
    "        data={\"token\": pushover_api, \"user\": pushover_user, \"message\": text}\n",
    "    )\n",
    "\n",
    "def tool_with_logging(tool_name, func, *args, **kwargs):\n",
    "    logger.info(f\"[TOOL] {tool_name} called with args={args}, kwargs={kwargs}\")\n",
    "    result = func(*args, **kwargs)\n",
    "    logger.info(f\"[TOOL] {tool_name} output: {result}\")\n",
    "    return result\n",
    "\n",
    "tool_search = Tool(\n",
    "    name=\"search\",\n",
    "    func=lambda query: tool_with_logging(\"search\", serper.run, query),\n",
    "    description=\"search when online info is needed\"\n",
    ")\n",
    "\n",
    "tool_push = Tool(\n",
    "    name=\"push_notifications\",\n",
    "    func=lambda text: tool_with_logging(\"push_notifications\", push, text),\n",
    "    description=\"sends push notification when hit\"\n",
    ")\n",
    "\n",
    "tools = [tool_search, tool_push]\n",
    "\n",
    "# ----------------------------\n",
    "# LLM and bind tools\n",
    "# ----------------------------\n",
    "llm = ChatOpenAI(model='gpt-4o-mini')\n",
    "llm_with_tools = llm.bind_tools(tools=tools)\n",
    "\n",
    "def invoke_llm_with_logging(messages):\n",
    "    logger.info(f\"[LLM] Invoked with messages: {messages}\")\n",
    "    # If your LangGraph binding exposes which tools were called, log them here\n",
    "    result = llm_with_tools.invoke(messages)\n",
    "    tools_called = getattr(llm_with_tools, \"tools_called\", None)\n",
    "    logger.info(f\"[LLM] Output: {result} | Tools called: {tools_called}\")\n",
    "    return result\n",
    "\n",
    "# ----------------------------\n",
    "# Memory / Checkpoint\n",
    "# ----------------------------\n",
    "memory = MemorySaver()\n",
    "logger.info(\"[CHECKPOINT] MemorySaver initialized\")\n",
    "\n",
    "# ----------------------------\n",
    "# State Definition\n",
    "# ----------------------------\n",
    "class State(TypedDict):\n",
    "    messages: Annotated[list, add_messages]\n",
    "\n",
    "# ----------------------------\n",
    "# Build Graph\n",
    "# ----------------------------\n",
    "graph_builder = StateGraph(State)\n",
    "\n",
    "def chatbot(state: State):\n",
    "    prev_state = deepcopy(state)\n",
    "    logger.info(f\"[NODE] Chatbot called | Previous state: {prev_state}\")\n",
    "\n",
    "    llm_result = invoke_llm_with_logging(state['messages'])\n",
    "    new_state = {\"messages\": [llm_result]}\n",
    "\n",
    "    logger.info(f\"[NODE] Chatbot finished | Updated state: {new_state}\")\n",
    "    return new_state\n",
    "\n",
    "graph_builder.add_node(\"chatbot\", chatbot)\n",
    "graph_builder.add_node(\"tools\", ToolNode(tools=tools))\n",
    "\n",
    "# Graph edges with conditional routing\n",
    "graph_builder.add_edge(START, \"chatbot\")\n",
    "graph_builder.add_conditional_edges(\n",
    "    \"chatbot\",\n",
    "    tools_condition,\n",
    "    \"tools\"\n",
    ")\n",
    "graph_builder.add_edge(\"tools\", \"chatbot\")\n",
    "graph_builder.add_edge(\"chatbot\", END)\n",
    "\n",
    "graph = graph_builder.compile(checkpointer=memory)\n",
    "logger.info(\"[GRAPH] Graph compiled with checkpoint\")\n",
    "display(Image(graph.get_graph().draw_mermaid_png()))\n",
    "\n",
    "# ----------------------------\n",
    "# Chat Interface\n",
    "# ----------------------------\n",
    "config = {\"configurable\": {\"thread_id\": \"1\"}}\n",
    "\n",
    "def chat(user_input: str, history):\n",
    "    prev_state = {\"messages\": history}\n",
    "    logger.info(f\"[USER] Input: {user_input} | Previous state: {prev_state}\")\n",
    "\n",
    "    # Invoke graph\n",
    "    result = graph.invoke({\"messages\": [{\"role\": \"user\", \"content\": user_input}]}, config=config)\n",
    "\n",
    "    current_state = deepcopy(result)\n",
    "    logger.info(f\"[GRAPH] Updated state after invocation: {current_state}\")\n",
    "\n",
    "    last_response = result['messages'][-1].content\n",
    "    logger.info(f\"[CHAT] Returning last response: {last_response}\")\n",
    "\n",
    "    return last_response\n",
    "\n",
    "gr.ChatInterface(chat, type='messages').launch()\n"
   ]
  },
  {
   "cell_type": "code",
   "execution_count": 38,
   "id": "89d1f3b3",
   "metadata": {},
   "outputs": [
    {
     "data": {
      "image/png": "[encoded data removed]",
      "text/plain": [
       "<IPython.core.display.Image object>"
      ]
     },
     "metadata": {},
     "output_type": "display_data"
    },
    {
     "name": "stdout",
     "output_type": "stream",
     "text": [
      "* Running on local URL:  http://127.0.0.1:7862\n",
      "* To create a public link, set `share=True` in `launch()`.\n"
     ]
    },
    {
     "data": {
      "text/html": [
       "<div><iframe src=\"http://127.0.0.1:7862/\" width=\"100%\" height=\"500\" allow=\"autoplay; camera; microphone; clipboard-read; clipboard-write;\" frameborder=\"0\" allowfullscreen></iframe></div>"
      ],
      "text/plain": [
       "<IPython.core.display.HTML object>"
      ]
     },
     "metadata": {},
     "output_type": "display_data"
    },
    {
     "data": {
      "text/plain": []
     },
     "execution_count": 38,
     "metadata": {},
     "output_type": "execute_result"
    }
   ],
   "source": [
    "#### Stateful LangGraph + Gradio chatbot with ChatOpenAI LLM, tool integration (search & push),\n",
    "# persistent memory, and detailed per-tool logging\n",
    "\n",
    "from typing import Annotated, TypedDict\n",
    "from langgraph.graph import StateGraph, START, END\n",
    "from langgraph.graph.message import add_messages\n",
    "from langgraph.prebuilt import ToolNode, tools_condition\n",
    "from langchain_openai import ChatOpenAI\n",
    "from langchain.agents import Tool\n",
    "from langchain_community.utilities import GoogleSerperAPIWrapper\n",
    "from langgraph.checkpoint.memory import MemorySaver\n",
    "import requests\n",
    "import os\n",
    "import gradio as gr\n",
    "from IPython.display import Image, display\n",
    "from dotenv import load_dotenv\n",
    "import logging\n",
    "from copy import deepcopy\n",
    "\n",
    "# ----------------------------\n",
    "# Load environment variables\n",
    "# ----------------------------\n",
    "load_dotenv(override=True)\n",
    "pushover_user = os.getenv('PUSHOVER_USER')\n",
    "pushover_api = os.getenv('PUSHOVER_API')\n",
    "pushover_url = \"https://api.pushover.net/1/messages.json\"\n",
    "\n",
    "# ----------------------------\n",
    "# Setup Logging\n",
    "# ----------------------------\n",
    "os.makedirs(\"logs\", exist_ok=True)\n",
    "logging.basicConfig(\n",
    "    filename=\"logs/langgraph_detailed.log\",\n",
    "    level=logging.INFO,\n",
    "    format=\"%(asctime)s | %(levelname)s | %(message)s\"\n",
    ")\n",
    "logger = logging.getLogger(__name__)\n",
    "\n",
    "# ----------------------------\n",
    "# Tools\n",
    "# ----------------------------\n",
    "serper = GoogleSerperAPIWrapper()\n",
    "\n",
    "def push(text: str):\n",
    "    requests.post(\n",
    "        url=pushover_url,\n",
    "        data={\"token\": pushover_api, \"user\": pushover_user, \"message\": text}\n",
    "    )\n",
    "\n",
    "# Global tracker for tools called per LLM invocation\n",
    "tools_tracker = []\n",
    "\n",
    "def tool_with_logging(tool_name, func, *args, **kwargs):\n",
    "    logger.info(f\"[TOOL] {tool_name} called with args={args}, kwargs={kwargs}\")\n",
    "    result = func(*args, **kwargs)\n",
    "    logger.info(f\"[TOOL] {tool_name} output: {result}\")\n",
    "    tools_tracker.append(tool_name)\n",
    "    return result\n",
    "\n",
    "tool_search = Tool(\n",
    "    name=\"search\",\n",
    "    func=lambda query: tool_with_logging(\"search\", serper.run, query),\n",
    "    description=\"search when online info is needed\"\n",
    ")\n",
    "\n",
    "tool_push = Tool(\n",
    "    name=\"push_notifications\",\n",
    "    func=lambda text: tool_with_logging(\"push_notifications\", push, text),\n",
    "    description=\"sends push notification when hit\"\n",
    ")\n",
    "\n",
    "tools = [tool_search, tool_push]\n",
    "\n",
    "# ----------------------------\n",
    "# LLM and bind tools\n",
    "# ----------------------------\n",
    "llm = ChatOpenAI(model='gpt-4o-mini')\n",
    "llm_with_tools = llm.bind_tools(tools=tools)\n",
    "\n",
    "def invoke_llm_with_logging(messages):\n",
    "    global tools_tracker\n",
    "    tools_tracker = []  # Reset tracker for each invocation\n",
    "    logger.info(f\"[LLM] Invoked with messages: {messages}\")\n",
    "    result = llm_with_tools.invoke(messages)\n",
    "\n",
    "    # Log tools called or skipped\n",
    "    if tools_tracker:\n",
    "        logger.info(f\"[LLM] Tools called during this invocation: {tools_tracker}\")\n",
    "    else:\n",
    "        logger.info(f\"[LLM] No tools were called during this invocation\")\n",
    "\n",
    "    return result\n",
    "\n",
    "# ----------------------------\n",
    "# Memory / Checkpoint\n",
    "# ----------------------------\n",
    "memory = MemorySaver()\n",
    "logger.info(\"[CHECKPOINT] MemorySaver initialized\")\n",
    "\n",
    "# ----------------------------\n",
    "# State Definition\n",
    "# ----------------------------\n",
    "class State(TypedDict):\n",
    "    messages: Annotated[list, add_messages]\n",
    "\n",
    "# ----------------------------\n",
    "# Build Graph\n",
    "# ----------------------------\n",
    "graph_builder = StateGraph(State)\n",
    "\n",
    "def chatbot(state: State):\n",
    "    prev_state = deepcopy(state)\n",
    "    logger.info(f\"[NODE] Chatbot node called | Previous state: {prev_state}\")\n",
    "\n",
    "    llm_result = invoke_llm_with_logging(state['messages'])\n",
    "    new_state = {\"messages\": [llm_result]}\n",
    "\n",
    "    logger.info(f\"[NODE] Chatbot node finished | Updated state: {new_state}\")\n",
    "    logger.info(f\"[NODE] Tools invoked this turn: {tools_tracker}\")\n",
    "\n",
    "    return new_state\n",
    "\n",
    "graph_builder.add_node(\"chatbot\", chatbot)\n",
    "graph_builder.add_node(\"tools\", ToolNode(tools=tools))\n",
    "\n",
    "# Graph edges with conditional routing\n",
    "graph_builder.add_edge(START, \"chatbot\")\n",
    "graph_builder.add_conditional_edges(\n",
    "    \"chatbot\",\n",
    "    tools_condition,\n",
    "    \"tools\"\n",
    ")\n",
    "graph_builder.add_edge(\"tools\", \"chatbot\")\n",
    "graph_builder.add_edge(\"chatbot\", END)\n",
    "\n",
    "graph = graph_builder.compile(checkpointer=memory)\n",
    "logger.info(\"[GRAPH] Graph compiled with checkpoint\")\n",
    "display(Image(graph.get_graph().draw_mermaid_png()))\n",
    "\n",
    "# ----------------------------\n",
    "# Chat Interface\n",
    "# ----------------------------\n",
    "config = {\"configurable\": {\"thread_id\": \"1\"}}\n",
    "\n",
    "def chat(user_input: str, history):\n",
    "    prev_state = {\"messages\": history}\n",
    "    logger.info(f\"[USER] Input: {user_input} | Previous state: {prev_state}\")\n",
    "\n",
    "    result = graph.invoke({\"messages\": [{\"role\": \"user\", \"content\": user_input}]}, config=config)\n",
    "    current_state = deepcopy(result)\n",
    "    logger.info(f\"[GRAPH] Updated state after invocation: {current_state}\")\n",
    "\n",
    "    last_response = result['messages'][-1].content\n",
    "    logger.info(f\"[CHAT] Returning last response: {last_response}\")\n",
    "\n",
    "    return last_response\n",
    "\n",
    "gr.ChatInterface(chat, type='messages').launch()\n"
   ]
  },
  {
   "cell_type": "code",
   "execution_count": null,
   "id": "0db768e5",
   "metadata": {},
   "outputs": [],
   "source": []
  }
 ],
 "metadata": {
  "kernelspec": {
   "display_name": ".venv",
   "language": "python",
   "name": "python3"
  },
  "language_info": {
   "codemirror_mode": {
    "name": "ipython",
    "version": 3
   },
   "file_extension": ".py",
   "mimetype": "text/x-python",
   "name": "python",
   "nbconvert_exporter": "python",
   "pygments_lexer": "ipython3",
   "version": "3.12.11"
  }
 },
 "nbformat": 4,
 "nbformat_minor": 5
}
