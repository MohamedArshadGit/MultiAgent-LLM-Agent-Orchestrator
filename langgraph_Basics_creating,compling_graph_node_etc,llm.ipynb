{
 "cells": [
  {
   "cell_type": "code",
   "execution_count": 92,
   "id": "3b72ec8d",
   "metadata": {},
   "outputs": [],
   "source": [
    "from typing import Annotated,TypedDict\n",
    "from dotenv import load_dotenv\n",
    "import gradio as gr\n",
    "import random\n",
    "from pydantic import BaseModel\n",
    "from IPython.display import Image,display\n",
    "from langgraph.graph import StateGraph,START,END\n",
    "from langgraph.graph.message import add_messages,BaseMessage\n",
    "from langchain_openai import ChatOpenAI\n"
   ]
  },
  {
   "cell_type": "code",
   "execution_count": 77,
   "id": "b01987df",
   "metadata": {},
   "outputs": [],
   "source": [
    "# Some useful constants\n",
    "\n",
    "nouns = [\"Cabbages\", \"Unicorns\", \"Toasters\", \"Penguins\", \"Bananas\", \"Zombies\", \"Rainbows\", \"Eels\", \"Pickles\", \"Muffins\"]\n",
    "adjectives = [\"outrageous\", \"smelly\", \"pedantic\", \"existential\", \"moody\", \"sparkly\", \"untrustworthy\", \"sarcastic\", \"squishy\", \"haunted\"]"
   ]
  },
  {
   "cell_type": "code",
   "execution_count": 78,
   "id": "ca2208af",
   "metadata": {},
   "outputs": [
    {
     "data": {
      "text/plain": [
       "True"
      ]
     },
     "execution_count": 78,
     "metadata": {},
     "output_type": "execute_result"
    }
   ],
   "source": [
    "load_dotenv(override=True)"
   ]
  },
  {
   "cell_type": "markdown",
   "id": "f5e7b482",
   "metadata": {},
   "source": [
    "1) Define the STATE object with pydantic model or Typedict\n",
    "\n",
    "   But LangGraph's recc. is using Typeddict"
   ]
  },
  {
   "cell_type": "code",
   "execution_count": 79,
   "id": "06a8a43e",
   "metadata": {},
   "outputs": [],
   "source": [
    "#Either use this --> Langgraph Reccomended(Faster because No validation)\n",
    "\n",
    "#TypedDict version -> A list of chat message objects (HumanMessage, AIMessage, etc.)\n",
    "#LangGraph expects the agent state to be dict-like\n",
    "#Messages are stored as actual objects (HumanMessage, AIMessage, etc) in BaseMessage\n",
    "# and add_messages is a reducer function which is appends new messages instead of overriding \n",
    "class State(TypedDict):\n",
    "    messages:Annotated[list[BaseMessage],add_messages]\n"
   ]
  },
  {
   "cell_type": "code",
   "execution_count": 80,
   "id": "004d314c",
   "metadata": {},
   "outputs": [],
   "source": [
    "# or Use this -> If we need pydantic validation (little slow because it validates what we passeed,automatic type conversion like \"25\" will be converted to int -> 25)\n",
    "\n",
    "class State1(BaseModel):\n",
    "    messages:Annotated[list,add_messages]\n",
    "\n",
    "#here one thing is we are not using list[BaseMessage] like we used in TypedDict \n",
    "#the reason is You could even write messages: list[BaseMessage] in Pydantic, but then the input must be actual BaseMessage objects, which may be too strict for API inputs.\n",
    "# while passing in api it will raise error so we have to accept generic like only list then if needed we can convert\n",
    "#Another overhead if list has some string or something where sometimes actual like anything humanmessage or something it misses it will throws error which is overhead for us\n",
    "# So use only list and not list[BaseMessage] while using Pydantic's BaseModel which is very strict "
   ]
  },
  {
   "cell_type": "markdown",
   "id": "8410e743",
   "metadata": {},
   "source": [
    "2) Start the graph builder with this State Class"
   ]
  },
  {
   "cell_type": "code",
   "execution_count": 81,
   "id": "152bf28a",
   "metadata": {},
   "outputs": [],
   "source": [
    "graph_builder = StateGraph(State)"
   ]
  },
  {
   "cell_type": "markdown",
   "id": "8f780a9c",
   "metadata": {},
   "source": [
    "3. Create a Node"
   ]
  },
  {
   "cell_type": "code",
   "execution_count": 82,
   "id": "6b91551d",
   "metadata": {},
   "outputs": [
    {
     "data": {
      "text/plain": [
       "{'messages': [{'role': 'assistant', 'content': 'Cabbages are existential'}]}"
      ]
     },
     "execution_count": 82,
     "metadata": {},
     "output_type": "execute_result"
    }
   ],
   "source": [
    "def first_node(old_state: State)-> State:\n",
    "    content =f'{random.choice(nouns)} are {random.choice(adjectives)}'\n",
    "    messages =[{\"role\":\"assistant\",\"content\":content}]\n",
    "    \n",
    "    new_state =State(messages=messages)\n",
    "    #print(content)\n",
    "    return new_state\n",
    "\n",
    "first_node('a')"
   ]
  },
  {
   "cell_type": "markdown",
   "id": "1db072cf",
   "metadata": {},
   "source": [
    "4) Add Nodes and Edges"
   ]
  },
  {
   "cell_type": "code",
   "execution_count": 83,
   "id": "5901e8ee",
   "metadata": {},
   "outputs": [
    {
     "data": {
      "text/plain": [
       "<langgraph.graph.state.StateGraph at 0x1a4318b22d0>"
      ]
     },
     "execution_count": 83,
     "metadata": {},
     "output_type": "execute_result"
    }
   ],
   "source": [
    "#add Nodes\n",
    "graph_builder.add_node(\"1st_node\",first_node)\n",
    "\n",
    "#add Edges\n",
    "graph_builder.add_edge(START,\"1st_node\")\n",
    "graph_builder.add_edge(\"1st_node\",END)"
   ]
  },
  {
   "cell_type": "markdown",
   "id": "cec0c57e",
   "metadata": {},
   "source": [
    "5. Compile the graph"
   ]
  },
  {
   "cell_type": "code",
   "execution_count": 84,
   "id": "9277cdcb",
   "metadata": {},
   "outputs": [],
   "source": [
    "graph =graph_builder.compile()"
   ]
  },
  {
   "cell_type": "markdown",
   "id": "9a2fd523",
   "metadata": {},
   "source": [
    "6) Display the Graph"
   ]
  },
  {
   "cell_type": "code",
   "execution_count": 85,
   "id": "ec9f4033",
   "metadata": {},
   "outputs": [
    {
     "data": {
      "image/png": "[encoded data removed]",
      "text/plain": [
       "<IPython.core.display.Image object>"
      ]
     },
     "metadata": {},
     "output_type": "display_data"
    }
   ],
   "source": [
    "display(Image(graph.get_graph().draw_mermaid_png()))"
   ]
  },
  {
   "cell_type": "code",
   "execution_count": 91,
   "id": "e1a12196",
   "metadata": {},
   "outputs": [
    {
     "name": "stdout",
     "output_type": "stream",
     "text": [
      "* Running on local URL:  http://127.0.0.1:7866\n",
      "* To create a public link, set `share=True` in `launch()`.\n"
     ]
    },
    {
     "data": {
      "text/html": [
       "<div><iframe src=\"http://127.0.0.1:7866/\" width=\"100%\" height=\"500\" allow=\"autoplay; camera; microphone; clipboard-read; clipboard-write;\" frameborder=\"0\" allowfullscreen></iframe></div>"
      ],
      "text/plain": [
       "<IPython.core.display.HTML object>"
      ]
     },
     "metadata": {},
     "output_type": "display_data"
    },
    {
     "data": {
      "text/plain": []
     },
     "execution_count": 91,
     "metadata": {},
     "output_type": "execute_result"
    },
    {
     "name": "stdout",
     "output_type": "stream",
     "text": [
      "{'messages': [HumanMessage(content='hi', additional_kwargs={}, response_metadata={}, id='5622ee9a-1636-40e3-aa92-03ab9a323ba3'), AIMessage(content='Rainbows are squishy', additional_kwargs={}, response_metadata={}, id='2c54ba03-e137-4b18-a624-e6a28ba04ef9')]}\n",
      "{'messages': [HumanMessage(content='hll', additional_kwargs={}, response_metadata={}, id='9e73268e-4379-437e-be58-72997fd401b6'), AIMessage(content='Muffins are existential', additional_kwargs={}, response_metadata={}, id='8eb3a46f-c4ee-42e5-b907-fbd672f19e12')]}\n",
      "{'messages': [HumanMessage(content='how are u', additional_kwargs={}, response_metadata={}, id='721050c2-e0dd-42da-a65b-6bbb15ddfca3'), AIMessage(content='Muffins are outrageous', additional_kwargs={}, response_metadata={}, id='1950a78a-d155-4ef6-b07a-499d371e622b')]}\n"
     ]
    }
   ],
   "source": [
    "def chat(user_input:str,history):\n",
    "    message =[{\"role\":\"user\",\"content\":user_input}]\n",
    "\n",
    "    messages=message\n",
    "    state=State(messages=messages)\n",
    "    result =graph.invoke(state)\n",
    "    print(result)\n",
    "    #return result\n",
    "    return result['messages'][-1].content\n",
    "\n",
    "gr.ChatInterface(chat,type=\"messages\").launch()"
   ]
  },
  {
   "cell_type": "markdown",
   "id": "516ef17d",
   "metadata": {},
   "source": [
    "Add llm now "
   ]
  },
  {
   "cell_type": "code",
   "execution_count": 172,
   "id": "1120ddee",
   "metadata": {},
   "outputs": [],
   "source": [
    "class State(BaseModel):\n",
    "    messages:Annotated[list,add_messages]"
   ]
  },
  {
   "cell_type": "code",
   "execution_count": 173,
   "id": "e9af0cb3",
   "metadata": {},
   "outputs": [],
   "source": [
    "graph_builder =StateGraph(State)"
   ]
  },
  {
   "cell_type": "code",
   "execution_count": null,
   "id": "e90da3b2",
   "metadata": {},
   "outputs": [],
   "source": [
    "# add llm\n",
    "\n",
    "llm=ChatOpenAI(model=\"gpt-3.5-turbo\")\n",
    "\n",
    "def chatbot(old_state:State)->State: \n",
    "    print(\"old_state:\",old_state) #eg hi there + other things like id etc (where i entered currently in gradio ui)\n",
    "    response =llm.invoke(old_state.messages) \n",
    "    print(\"response is \",response)\n",
    "    new_state =State(messages=[response])\n",
    "    print(\"a new state:\",new_state)\n",
    "    return new_state"
   ]
  },
  {
   "cell_type": "code",
   "execution_count": 175,
   "id": "2d8bf927",
   "metadata": {},
   "outputs": [
    {
     "data": {
      "text/plain": [
       "<langgraph.graph.state.StateGraph at 0x1a432174830>"
      ]
     },
     "execution_count": 175,
     "metadata": {},
     "output_type": "execute_result"
    }
   ],
   "source": [
    "graph_builder.add_node(\"chatbot_node\",chatbot)"
   ]
  },
  {
   "cell_type": "code",
   "execution_count": 176,
   "id": "58bac5e8",
   "metadata": {},
   "outputs": [
    {
     "data": {
      "image/png": "[encoded data removed]",
      "text/plain": [
       "<IPython.core.display.Image object>"
      ]
     },
     "metadata": {},
     "output_type": "display_data"
    }
   ],
   "source": [
    "graph_builder.add_edge(START,\"chatbot_node\")\n",
    "graph_builder.add_edge(\"chatbot_node\",END)\n",
    "\n",
    "graph = graph_builder.compile()\n",
    "\n",
    "display(Image(graph.get_graph().draw_mermaid_png()))"
   ]
  },
  {
   "cell_type": "code",
   "execution_count": 177,
   "id": "69ee93b1",
   "metadata": {},
   "outputs": [],
   "source": [
    "def chat(user_input:str,history):\n",
    "    initial_state =State(messages=[{\"role\":\"user\",\"content\":user_input}])\n",
    "    result =graph.invoke(initial_state)\n",
    "    print(\"whole result:\",result)\n",
    "    return result['messages'][-1].content\n",
    "    "
   ]
  },
  {
   "cell_type": "code",
   "execution_count": null,
   "id": "3684f954",
   "metadata": {},
   "outputs": [
    {
     "name": "stdout",
     "output_type": "stream",
     "text": [
      "* Running on local URL:  http://127.0.0.1:7876\n",
      "* To create a public link, set `share=True` in `launch()`.\n"
     ]
    },
    {
     "data": {
      "text/html": [
       "<div><iframe src=\"http://127.0.0.1:7876/\" width=\"100%\" height=\"500\" allow=\"autoplay; camera; microphone; clipboard-read; clipboard-write;\" frameborder=\"0\" allowfullscreen></iframe></div>"
      ],
      "text/plain": [
       "<IPython.core.display.HTML object>"
      ]
     },
     "metadata": {},
     "output_type": "display_data"
    },
    {
     "data": {
      "text/plain": []
     },
     "execution_count": 178,
     "metadata": {},
     "output_type": "execute_result"
    },
    {
     "name": "stdout",
     "output_type": "stream",
     "text": [
      "old_state: messages=[HumanMessage(content='hi there', additional_kwargs={}, response_metadata={}, id='ae69d61f-184a-4998-a45b-97caa3330cb8')]\n",
      "response is  content='Hello! How can I help you today?' additional_kwargs={'refusal': None} response_metadata={'token_usage': {'completion_tokens': 9, 'prompt_tokens': 9, 'total_tokens': 18, 'completion_tokens_details': {'accepted_prediction_tokens': 0, 'audio_tokens': 0, 'reasoning_tokens': 0, 'rejected_prediction_tokens': 0}, 'prompt_tokens_details': {'audio_tokens': 0, 'cached_tokens': 0}}, 'model_name': 'gpt-3.5-turbo-0125', 'system_fingerprint': None, 'id': 'chatcmpl-CRMAqlkJ81OujhreEgFfMV8kcNfg3', 'service_tier': 'default', 'finish_reason': 'stop', 'logprobs': None} id='run--bdb16644-3c5b-4331-bce2-4ff08ffdf869-0' usage_metadata={'input_tokens': 9, 'output_tokens': 9, 'total_tokens': 18, 'input_token_details': {'audio': 0, 'cache_read': 0}, 'output_token_details': {'audio': 0, 'reasoning': 0}}\n",
      "a new state: messages=[AIMessage(content='Hello! How can I help you today?', additional_kwargs={'refusal': None}, response_metadata={'token_usage': {'completion_tokens': 9, 'prompt_tokens': 9, 'total_tokens': 18, 'completion_tokens_details': {'accepted_prediction_tokens': 0, 'audio_tokens': 0, 'reasoning_tokens': 0, 'rejected_prediction_tokens': 0}, 'prompt_tokens_details': {'audio_tokens': 0, 'cached_tokens': 0}}, 'model_name': 'gpt-3.5-turbo-0125', 'system_fingerprint': None, 'id': 'chatcmpl-CRMAqlkJ81OujhreEgFfMV8kcNfg3', 'service_tier': 'default', 'finish_reason': 'stop', 'logprobs': None}, id='run--bdb16644-3c5b-4331-bce2-4ff08ffdf869-0', usage_metadata={'input_tokens': 9, 'output_tokens': 9, 'total_tokens': 18, 'input_token_details': {'audio': 0, 'cache_read': 0}, 'output_token_details': {'audio': 0, 'reasoning': 0}})]\n",
      "whole result: {'messages': [HumanMessage(content='hi there', additional_kwargs={}, response_metadata={}, id='ae69d61f-184a-4998-a45b-97caa3330cb8'), AIMessage(content='Hello! How can I help you today?', additional_kwargs={'refusal': None}, response_metadata={'token_usage': {'completion_tokens': 9, 'prompt_tokens': 9, 'total_tokens': 18, 'completion_tokens_details': {'accepted_prediction_tokens': 0, 'audio_tokens': 0, 'reasoning_tokens': 0, 'rejected_prediction_tokens': 0}, 'prompt_tokens_details': {'audio_tokens': 0, 'cached_tokens': 0}}, 'model_name': 'gpt-3.5-turbo-0125', 'system_fingerprint': None, 'id': 'chatcmpl-CRMAqlkJ81OujhreEgFfMV8kcNfg3', 'service_tier': 'default', 'finish_reason': 'stop', 'logprobs': None}, id='run--bdb16644-3c5b-4331-bce2-4ff08ffdf869-0', usage_metadata={'input_tokens': 9, 'output_tokens': 9, 'total_tokens': 18, 'input_token_details': {'audio': 0, 'cache_read': 0}, 'output_token_details': {'audio': 0, 'reasoning': 0}})]}\n",
      "old_state: messages=[HumanMessage(content='what time is now ?', additional_kwargs={}, response_metadata={}, id='442b7276-0b11-4e92-a19a-438b9a58e1be')]\n",
      "response is  content=\"I'm an AI and I don't have the capability to tell the current time. You may check the time on your device or ask a voice assistant for the current time.\" additional_kwargs={'refusal': None} response_metadata={'token_usage': {'completion_tokens': 35, 'prompt_tokens': 12, 'total_tokens': 47, 'completion_tokens_details': {'accepted_prediction_tokens': 0, 'audio_tokens': 0, 'reasoning_tokens': 0, 'rejected_prediction_tokens': 0}, 'prompt_tokens_details': {'audio_tokens': 0, 'cached_tokens': 0}}, 'model_name': 'gpt-3.5-turbo-0125', 'system_fingerprint': None, 'id': 'chatcmpl-CRMNUTgRiJ0zPzXJv0PIBXwhEui4L', 'service_tier': 'default', 'finish_reason': 'stop', 'logprobs': None} id='run--e2d956d2-1678-4215-95e4-4e8cdb5e7c0b-0' usage_metadata={'input_tokens': 12, 'output_tokens': 35, 'total_tokens': 47, 'input_token_details': {'audio': 0, 'cache_read': 0}, 'output_token_details': {'audio': 0, 'reasoning': 0}}\n",
      "a new state: messages=[AIMessage(content=\"I'm an AI and I don't have the capability to tell the current time. You may check the time on your device or ask a voice assistant for the current time.\", additional_kwargs={'refusal': None}, response_metadata={'token_usage': {'completion_tokens': 35, 'prompt_tokens': 12, 'total_tokens': 47, 'completion_tokens_details': {'accepted_prediction_tokens': 0, 'audio_tokens': 0, 'reasoning_tokens': 0, 'rejected_prediction_tokens': 0}, 'prompt_tokens_details': {'audio_tokens': 0, 'cached_tokens': 0}}, 'model_name': 'gpt-3.5-turbo-0125', 'system_fingerprint': None, 'id': 'chatcmpl-CRMNUTgRiJ0zPzXJv0PIBXwhEui4L', 'service_tier': 'default', 'finish_reason': 'stop', 'logprobs': None}, id='run--e2d956d2-1678-4215-95e4-4e8cdb5e7c0b-0', usage_metadata={'input_tokens': 12, 'output_tokens': 35, 'total_tokens': 47, 'input_token_details': {'audio': 0, 'cache_read': 0}, 'output_token_details': {'audio': 0, 'reasoning': 0}})]\n",
      "whole result: {'messages': [HumanMessage(content='what time is now ?', additional_kwargs={}, response_metadata={}, id='442b7276-0b11-4e92-a19a-438b9a58e1be'), AIMessage(content=\"I'm an AI and I don't have the capability to tell the current time. You may check the time on your device or ask a voice assistant for the current time.\", additional_kwargs={'refusal': None}, response_metadata={'token_usage': {'completion_tokens': 35, 'prompt_tokens': 12, 'total_tokens': 47, 'completion_tokens_details': {'accepted_prediction_tokens': 0, 'audio_tokens': 0, 'reasoning_tokens': 0, 'rejected_prediction_tokens': 0}, 'prompt_tokens_details': {'audio_tokens': 0, 'cached_tokens': 0}}, 'model_name': 'gpt-3.5-turbo-0125', 'system_fingerprint': None, 'id': 'chatcmpl-CRMNUTgRiJ0zPzXJv0PIBXwhEui4L', 'service_tier': 'default', 'finish_reason': 'stop', 'logprobs': None}, id='run--e2d956d2-1678-4215-95e4-4e8cdb5e7c0b-0', usage_metadata={'input_tokens': 12, 'output_tokens': 35, 'total_tokens': 47, 'input_token_details': {'audio': 0, 'cache_read': 0}, 'output_token_details': {'audio': 0, 'reasoning': 0}})]}\n"
     ]
    }
   ],
   "source": [
    "gr.ChatInterface(chat,type='messages').launch()"
   ]
  },
  {
   "cell_type": "code",
   "execution_count": null,
   "id": "047e80a2",
   "metadata": {},
   "outputs": [],
   "source": []
  }
 ],
 "metadata": {
  "kernelspec": {
   "display_name": ".venv",
   "language": "python",
   "name": "python3"
  },
  "language_info": {
   "codemirror_mode": {
    "name": "ipython",
    "version": 3
   },
   "file_extension": ".py",
   "mimetype": "text/x-python",
   "name": "python",
   "nbconvert_exporter": "python",
   "pygments_lexer": "ipython3",
   "version": "3.12.11"
  }
 },
 "nbformat": 4,
 "nbformat_minor": 5
}
