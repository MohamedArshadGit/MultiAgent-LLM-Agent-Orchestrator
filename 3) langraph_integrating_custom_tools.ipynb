{
 "cells": [
  {
   "cell_type": "code",
   "execution_count": 25,
   "id": "e61a7872",
   "metadata": {},
   "outputs": [],
   "source": [
    "from langgraph.graph import StateGraph,START,END\n",
    "from langgraph.graph.message import add_messages\n",
    "from langgraph.prebuilt import ToolNode,tools_condition\n",
    "from IPython.display import Image,display\n",
    "from langchain_openai import ChatOpenAI\n",
    "from typing import TypedDict,Annotated\n",
    "\n",
    "import gradio as gr\n",
    "from dotenv import load_dotenv\n",
    "import os,requests\n",
    "\n",
    "\n"
   ]
  },
  {
   "cell_type": "code",
   "execution_count": 26,
   "id": "d8961fdd",
   "metadata": {},
   "outputs": [
    {
     "data": {
      "text/plain": [
       "True"
      ]
     },
     "execution_count": 26,
     "metadata": {},
     "output_type": "execute_result"
    }
   ],
   "source": [
    "load_dotenv(override=True)"
   ]
  },
  {
   "cell_type": "code",
   "execution_count": 27,
   "id": "7c5612d3",
   "metadata": {},
   "outputs": [
    {
     "data": {
      "text/plain": [
       "\"The capital of Germany is the city of Berlin. [1] It is the seat of the Federal President of Germany, whose official residence is Bellevue Castle. Berlin is the capital of Germany, the seat of its federal parliament and government, and its role is enshrined in the Basic Law. Berlin is the capital and chief urban center of Germany. Berlin was the capital of Prussia and then, from 1871, of a unified Germany. Though ... Berlin is the capital and largest city of Germany, by both area and population. With 3.7 million inhabitants, it has the highest population within its city ... Berlin, the capital city of Germany, is renowned for its exceptional range of landmarks, vibrant cultural scene and way of life that's somehow all go yet ... Because Berlin has been historically the capital of Germany since 1701 (first Prussia after that German Reich). Berlin - Official Website of the City of Berlin, Capital of Germany – Berlin.de. Overview of the decision to make Berlin—rather than Bonn—the capital of reunified Germany. Berlin, the capital of Germany #shorts #shortvideo #berlin #berlin #germany #travelingaroundtheworld ... This content isn't available. Skip video.\""
      ]
     },
     "execution_count": 27,
     "metadata": {},
     "output_type": "execute_result"
    }
   ],
   "source": [
    "from langchain_community.utilities import GoogleSerperAPIWrapper\n",
    "\n",
    "serper =GoogleSerperAPIWrapper()\n",
    "serper.run(\"capital of germany?\")"
   ]
  },
  {
   "cell_type": "code",
   "execution_count": 28,
   "id": "fc675c74",
   "metadata": {},
   "outputs": [],
   "source": [
    "from langchain.agents import Tool #langchain also provides some wrapper code\n",
    "\n",
    "tool_search =Tool(\n",
    "    name=\"search\",\n",
    "    func=serper.run,\n",
    "    description=\"Useful for when we need more information from an online Search\"\n",
    ")"
   ]
  },
  {
   "cell_type": "code",
   "execution_count": 29,
   "id": "d0ed657a",
   "metadata": {},
   "outputs": [
    {
     "data": {
      "text/plain": [
       "\"AI is technology that enables computers and machines to simulate human learning, comprehension, problem solving, decision making, creativity and autonomy. Artificial intelligence refers to computer systems that can perform complex tasks normally done by human-reasoning, decision making, ... Artificial intelligence (AI) encompasses the fields of computer and data science focused on building machines with human intelligence. Artificial intelligence is a technology that allows you to generate, classify, and perform tasks like image analysis and speech recognition. Artificial Intelligence (AI) is a transformative technology that enables machines to perform human-like problem-solving tasks. From recognizing images and ... Artificial intelligence (AI) is the capability of computational systems to perform tasks typically associated with human intelligence This content isn't available. Artificial Intelligence, or AI, means teaching computers to think, act, or make decisions in ways that feel human. AI is a machine's ability to perform the cognitive functions we associate with human minds, such as perceiving, reasoning, learning, interacting with the ... AI is computer systems performing tasks requiring human intelligence, like reasoning and learning, and is a branch of computer science. Artificial Intelligence (AI) is the capability of computer systems or algorithms to imitate intelligent human behavior.\""
      ]
     },
     "execution_count": 29,
     "metadata": {},
     "output_type": "execute_result"
    }
   ],
   "source": [
    "tool_search.invoke(\"what is ai?\")"
   ]
  },
  {
   "cell_type": "markdown",
   "id": "e46da4c4",
   "metadata": {},
   "source": [
    "Pushover Token Tool\n"
   ]
  },
  {
   "cell_type": "code",
   "execution_count": 30,
   "id": "a1624964",
   "metadata": {},
   "outputs": [],
   "source": [
    "pushover_user =os.getenv('PUSHOVER_USER')\n",
    "pushover_api=os.getenv('PUSHOVER_API') #token is api\n",
    "pushover_base_url='https://api.pushover.net/1/messages.json'\n",
    "\n",
    "def push(text:str):\n",
    "    \"\"\"Sends a Push Notification to the User\"\"\"\n",
    "    response=requests.post(pushover_base_url,data={\"token\":pushover_api,\"user\":pushover_user,\"message\":text})\n",
    "    print(response.status_code,response.text)"
   ]
  },
  {
   "cell_type": "code",
   "execution_count": 31,
   "id": "b5f15c09",
   "metadata": {},
   "outputs": [],
   "source": [
    "tool_push =Tool(\n",
    "    name=\"Send_Push_Notification\",\n",
    "    func=push,\n",
    "    description=\"Useful when we want to send push Notifications\"\n",
    ")"
   ]
  },
  {
   "cell_type": "code",
   "execution_count": 32,
   "id": "b72bba2e",
   "metadata": {},
   "outputs": [
    {
     "name": "stdout",
     "output_type": "stream",
     "text": [
      "200 {\"status\":1,\"request\":\"944a8c96-6c7b-4ebf-8fae-ad38377999c7\"}\n"
     ]
    }
   ],
   "source": [
    "tool_push.invoke(\"Hello pushover app\")"
   ]
  },
  {
   "cell_type": "code",
   "execution_count": 33,
   "id": "6b4c9eea",
   "metadata": {},
   "outputs": [],
   "source": [
    "tools=[tool_search,tool_push]"
   ]
  },
  {
   "cell_type": "code",
   "execution_count": 34,
   "id": "8a66b6c0",
   "metadata": {},
   "outputs": [],
   "source": [
    "llm =ChatOpenAI(model=\"gpt-4o-mini\")\n",
    "llm_with_tools=llm.bind_tools(tools=tools)"
   ]
  },
  {
   "cell_type": "code",
   "execution_count": null,
   "id": "20f1a5f6",
   "metadata": {},
   "outputs": [
    {
     "data": {
      "text/plain": [
       "AIMessage(content=\"I don't have access to real-time news updates or the current date beyond my last training cutoff in October 2023. However, you can easily check the latest news in India by visiting reputable news websites or using news apps. If you're looking for specific topics or summaries related to events that occurred before October 2023, feel free to ask!\", additional_kwargs={'refusal': None}, response_metadata={'token_usage': {'completion_tokens': 69, 'prompt_tokens': 19, 'total_tokens': 88, 'completion_tokens_details': {'accepted_prediction_tokens': 0, 'audio_tokens': 0, 'reasoning_tokens': 0, 'rejected_prediction_tokens': 0}, 'prompt_tokens_details': {'audio_tokens': 0, 'cached_tokens': 0}}, 'model_name': 'gpt-4o-mini-2024-07-18', 'system_fingerprint': 'fp_560af6e559', 'id': 'chatcmpl-CSU6jjKofiW7xBWLzE3ldtky1pSoh', 'service_tier': 'default', 'finish_reason': 'stop', 'logprobs': None}, id='run--8cb14ea2-1397-45bb-8aff-c948724d3060-0', usage_metadata={'input_tokens': 19, 'output_tokens': 69, 'total_tokens': 88, 'input_token_details': {'audio': 0, 'cache_read': 0}, 'output_token_details': {'audio': 0, 'reasoning': 0}})"
      ]
     },
     "execution_count": 44,
     "metadata": {},
     "output_type": "execute_result"
    },
    {
     "ename": "",
     "evalue": "",
     "output_type": "error",
     "traceback": [
      "\u001b[1;31mThe Kernel crashed while executing code in the current cell or a previous cell. \n",
      "\u001b[1;31mPlease review the code in the cell(s) to identify a possible cause of the failure. \n",
      "\u001b[1;31mClick <a href='https://aka.ms/vscodeJupyterKernelCrash'>here</a> for more info. \n",
      "\u001b[1;31mView Jupyter <a href='command:jupyter.viewOutput'>log</a> for further details."
     ]
    }
   ],
   "source": [
    "llm.invoke(\"tell me latest news in india and what date is today?\")"
   ]
  },
  {
   "cell_type": "code",
   "execution_count": 35,
   "id": "3a937303",
   "metadata": {},
   "outputs": [],
   "source": [
    "class State(TypedDict):\n",
    "    messages:Annotated[list,add_messages]"
   ]
  },
  {
   "cell_type": "code",
   "execution_count": 36,
   "id": "bc4193d2",
   "metadata": {},
   "outputs": [],
   "source": [
    "def chatbot(state:State):\n",
    "    return {\"messages\":[llm_with_tools.invoke(state['messages'])]}"
   ]
  },
  {
   "cell_type": "code",
   "execution_count": 37,
   "id": "f1ac0d72",
   "metadata": {},
   "outputs": [],
   "source": [
    "graph_builder=StateGraph(State)"
   ]
  },
  {
   "cell_type": "code",
   "execution_count": 38,
   "id": "63dc39bf",
   "metadata": {},
   "outputs": [
    {
     "data": {
      "text/plain": [
       "<langgraph.graph.state.StateGraph at 0x25a79b0c950>"
      ]
     },
     "execution_count": 38,
     "metadata": {},
     "output_type": "execute_result"
    }
   ],
   "source": [
    "graph_builder.add_node(\"chatbot\",chatbot)\n",
    "graph_builder.add_node(\"tools\",ToolNode(tools=tools))"
   ]
  },
  {
   "cell_type": "code",
   "execution_count": 39,
   "id": "150beb4a",
   "metadata": {},
   "outputs": [
    {
     "data": {
      "text/plain": [
       "<langgraph.graph.state.StateGraph at 0x25a79b0c950>"
      ]
     },
     "execution_count": 39,
     "metadata": {},
     "output_type": "execute_result"
    }
   ],
   "source": [
    "graph_builder.add_conditional_edges(\"chatbot\",tools_condition,\"tools\")\n",
    "graph_builder.add_edge(\"tools\",\"chatbot\")\n",
    "graph_builder.add_edge(START,\"chatbot\")"
   ]
  },
  {
   "cell_type": "code",
   "execution_count": 40,
   "id": "75fb955b",
   "metadata": {},
   "outputs": [
    {
     "data": {
      "image/png": "[encoded data removed]",
      "text/plain": [
       "<IPython.core.display.Image object>"
      ]
     },
     "metadata": {},
     "output_type": "display_data"
    }
   ],
   "source": [
    "graph=graph_builder.compile()\n",
    "\n",
    "display(Image(graph.get_graph().draw_mermaid_png()))"
   ]
  },
  {
   "cell_type": "code",
   "execution_count": null,
   "id": "3f8fe6ab",
   "metadata": {},
   "outputs": [
    {
     "name": "stdout",
     "output_type": "stream",
     "text": [
      "* Running on local URL:  http://127.0.0.1:7864\n",
      "* To create a public link, set `share=True` in `launch()`.\n"
     ]
    },
    {
     "data": {
      "text/html": [
       "<div><iframe src=\"http://127.0.0.1:7864/\" width=\"100%\" height=\"500\" allow=\"autoplay; camera; microphone; clipboard-read; clipboard-write;\" frameborder=\"0\" allowfullscreen></iframe></div>"
      ],
      "text/plain": [
       "<IPython.core.display.HTML object>"
      ]
     },
     "metadata": {},
     "output_type": "display_data"
    },
    {
     "data": {
      "text/plain": []
     },
     "execution_count": 43,
     "metadata": {},
     "output_type": "execute_result"
    },
    {
     "name": "stdout",
     "output_type": "stream",
     "text": [
      "{'messages': [HumanMessage(content='hi', additional_kwargs={}, response_metadata={}, id='6a58884a-f3b5-4447-a07d-99f26e5db2f4'), AIMessage(content='Hello! How can I assist you today?', additional_kwargs={'refusal': None}, response_metadata={'token_usage': {'completion_tokens': 10, 'prompt_tokens': 89, 'total_tokens': 99, 'completion_tokens_details': {'accepted_prediction_tokens': 0, 'audio_tokens': 0, 'reasoning_tokens': 0, 'rejected_prediction_tokens': 0}, 'prompt_tokens_details': {'audio_tokens': 0, 'cached_tokens': 0}}, 'model_name': 'gpt-4o-mini-2024-07-18', 'system_fingerprint': 'fp_560af6e559', 'id': 'chatcmpl-CSTvV6omg2V4ZRIM5BIAxFTTpyjKt', 'service_tier': 'default', 'finish_reason': 'stop', 'logprobs': None}, id='run--10bcdf9c-4388-45c7-b957-965359f48f74-0', usage_metadata={'input_tokens': 89, 'output_tokens': 10, 'total_tokens': 99, 'input_token_details': {'audio': 0, 'cache_read': 0}, 'output_token_details': {'audio': 0, 'reasoning': 0}})]}\n",
      "200 {\"status\":1,\"request\":\"8ae9f0af-5150-42e8-8414-03186c8ff7ae\"}\n",
      "{'messages': [HumanMessage(content='send me a notification convert 100 pounds to indian rupee inr ', additional_kwargs={}, response_metadata={}, id='ac3b5270-414f-4c67-92ee-b798298c19d4'), AIMessage(content='', additional_kwargs={'tool_calls': [{'id': 'call_a7nR9WdJRxy9XyXoQffrPuHf', 'function': {'arguments': '{\"__arg1\":\"100 pounds is approximately 10,098 Indian Rupees (INR).\"}', 'name': 'Send_Push_Notification'}, 'type': 'function'}], 'refusal': None}, response_metadata={'token_usage': {'completion_tokens': 33, 'prompt_tokens': 103, 'total_tokens': 136, 'completion_tokens_details': {'accepted_prediction_tokens': 0, 'audio_tokens': 0, 'reasoning_tokens': 0, 'rejected_prediction_tokens': 0}, 'prompt_tokens_details': {'audio_tokens': 0, 'cached_tokens': 0}}, 'model_name': 'gpt-4o-mini-2024-07-18', 'system_fingerprint': 'fp_560af6e559', 'id': 'chatcmpl-CSTw9nU6vxpnxtB9KQClxKVKo2c7t', 'service_tier': 'default', 'finish_reason': 'tool_calls', 'logprobs': None}, id='run--89f1c53c-bfe8-4731-bf6c-c39d5d94e7fb-0', tool_calls=[{'name': 'Send_Push_Notification', 'args': {'__arg1': '100 pounds is approximately 10,098 Indian Rupees (INR).'}, 'id': 'call_a7nR9WdJRxy9XyXoQffrPuHf', 'type': 'tool_call'}], usage_metadata={'input_tokens': 103, 'output_tokens': 33, 'total_tokens': 136, 'input_token_details': {'audio': 0, 'cache_read': 0}, 'output_token_details': {'audio': 0, 'reasoning': 0}}), ToolMessage(content='null', name='Send_Push_Notification', id='ea55d9d9-2630-48a5-82cb-1a4f5606a038', tool_call_id='call_a7nR9WdJRxy9XyXoQffrPuHf'), AIMessage(content='I have sent you a notification stating that 100 pounds is approximately 10,098 Indian Rupees (INR).', additional_kwargs={'refusal': None}, response_metadata={'token_usage': {'completion_tokens': 25, 'prompt_tokens': 148, 'total_tokens': 173, 'completion_tokens_details': {'accepted_prediction_tokens': 0, 'audio_tokens': 0, 'reasoning_tokens': 0, 'rejected_prediction_tokens': 0}, 'prompt_tokens_details': {'audio_tokens': 0, 'cached_tokens': 0}}, 'model_name': 'gpt-4o-mini-2024-07-18', 'system_fingerprint': 'fp_560af6e559', 'id': 'chatcmpl-CSTwAD1ErycUr67HK71I4d9VGbtHf', 'service_tier': 'default', 'finish_reason': 'stop', 'logprobs': None}, id='run--f66fa7b9-68b0-412b-bf9d-b8770ad9de5c-0', usage_metadata={'input_tokens': 148, 'output_tokens': 25, 'total_tokens': 173, 'input_token_details': {'audio': 0, 'cache_read': 0}, 'output_token_details': {'audio': 0, 'reasoning': 0}})]}\n",
      "{'messages': [HumanMessage(content='tell me latest news in india and what date is today?', additional_kwargs={}, response_metadata={}, id='8b7e5072-607a-4900-a2c4-aad6a538b67a'), AIMessage(content='', additional_kwargs={'tool_calls': [{'id': 'call_V9NnPH6Y3DZY6Xz2DbSd8Ruv', 'function': {'arguments': '{\"__arg1\": \"latest news in India\"}', 'name': 'search'}, 'type': 'function'}, {'id': 'call_3M7OXx9DDDAKhz5D6RK2xKxP', 'function': {'arguments': '{\"__arg1\": \"current date\"}', 'name': 'search'}, 'type': 'function'}], 'refusal': None}, response_metadata={'token_usage': {'completion_tokens': 50, 'prompt_tokens': 100, 'total_tokens': 150, 'completion_tokens_details': {'accepted_prediction_tokens': 0, 'audio_tokens': 0, 'reasoning_tokens': 0, 'rejected_prediction_tokens': 0}, 'prompt_tokens_details': {'audio_tokens': 0, 'cached_tokens': 0}}, 'model_name': 'gpt-4o-mini-2024-07-18', 'system_fingerprint': 'fp_560af6e559', 'id': 'chatcmpl-CSU5VYnkukzp71fckGZdhkzauBm1B', 'service_tier': 'default', 'finish_reason': 'tool_calls', 'logprobs': None}, id='run--0b58e302-622a-4e97-ab9f-a0e52befc50b-0', tool_calls=[{'name': 'search', 'args': {'__arg1': 'latest news in India'}, 'id': 'call_V9NnPH6Y3DZY6Xz2DbSd8Ruv', 'type': 'tool_call'}, {'name': 'search', 'args': {'__arg1': 'current date'}, 'id': 'call_3M7OXx9DDDAKhz5D6RK2xKxP', 'type': 'tool_call'}], usage_metadata={'input_tokens': 100, 'output_tokens': 50, 'total_tokens': 150, 'input_token_details': {'audio': 0, 'cache_read': 0}, 'output_token_details': {'audio': 0, 'reasoning': 0}}), ToolMessage(content=\"Breaking News in India: Read Latest News on Sports, Business, Entertainment, Blogs and Opinions from leading columnists. Times of India brings the Breaking ... Latest News · Mumbai Confidential: Ministers and poll results · Love triangle ends in double murder: Pregnant woman stabbed to death by former live-in partner, ... Top News · RJD worker protests outside Lalu Yadav's residence after being denied ticket · 'Families worried': Owaisi appeals for safe return of 4 Indians from ... Sold out in India, panic in London: How the silver market broke · Kiran Mazumdar-Shaw hits back at DK Shivakumar over Bengaluru roads: 'Both Mohandas Pai and I.. Enhanced Anti-Pollution Curbs Under GRAP-2 Invoked In Delhi Ahead Of Diwali · In Pics: Ayodhya Sets Record By Lighting Up 26 Lakh Diyas Ahead Of Diwali. Watch: Raging rivers cause destruction in parts of northern India. At least 30 people have died since Tuesday, as flash floods swept away roads and submerged ... Pregnant woman stabbed by lover in Delhi; husband snatches knife, kills attacker. According to police, the pregnant woman, Shalini, was attacked multiple times ... Bihar Assembly Election · PM Modi to face Quad, BRICS leaders at ASEAN meet next week · Army Chief celebrates Deepavali with troops in forward areas; reaffirms ... India First With Gaurav Sawant: Pakistan Army Kills Scores At Home, Bombs Afghanistan | India Today · Pakistan-Taliban Ceasefire on Brink: Asim Munir Faces US ...\", name='search', id='dfe815b8-a8ac-4e97-bb43-8095235d7080', tool_call_id='call_V9NnPH6Y3DZY6Xz2DbSd8Ruv'), ToolMessage(content='Sunday, October 19, 2025', name='search', id='fddc5a61-1bc2-4b81-a2d4-679870b52b59', tool_call_id='call_3M7OXx9DDDAKhz5D6RK2xKxP'), AIMessage(content=\"### Latest News in India:\\n1. **Enhanced Anti-Pollution Curbs**: GRAP-2 invoked in Delhi ahead of Diwali.\\n2. **Ayodhya Lights Up**: Ayodhya sets a record by lighting up 26 lakh diyas ahead of Diwali.\\n3. **Flash Floods in Northern India**: Raging rivers have caused destruction in parts of northern India, with at least 30 people reported dead due to flash floods.\\n4. **Tragic Incident in Delhi**: A pregnant woman was stabbed by her lover; her husband intervened and fatally attacked the assailant.\\n5. **Political Updates**: Protests outside Lalu Yadav's residence; PM Modi to attend ASEAN meet with Quad and BRICS leaders next week.\\n6. **Market Insights**: Panic in London as the silver market breaks; items sold out in India.\\n\\n### Today's Date:\\nIt is **Sunday, October 19, 2025**.\", additional_kwargs={'refusal': None}, response_metadata={'token_usage': {'completion_tokens': 200, 'prompt_tokens': 530, 'total_tokens': 730, 'completion_tokens_details': {'accepted_prediction_tokens': 0, 'audio_tokens': 0, 'reasoning_tokens': 0, 'rejected_prediction_tokens': 0}, 'prompt_tokens_details': {'audio_tokens': 0, 'cached_tokens': 0}}, 'model_name': 'gpt-4o-mini-2024-07-18', 'system_fingerprint': 'fp_560af6e559', 'id': 'chatcmpl-CSU5Y7knfnjsSQ9SUoysmeuWIoyzO', 'service_tier': 'default', 'finish_reason': 'stop', 'logprobs': None}, id='run--79cdeee5-22a3-4218-93ba-60a5b3db38df-0', usage_metadata={'input_tokens': 530, 'output_tokens': 200, 'total_tokens': 730, 'input_token_details': {'audio': 0, 'cache_read': 0}, 'output_token_details': {'audio': 0, 'reasoning': 0}})]}\n"
     ]
    }
   ],
   "source": [
    "def chat(user_input:str,history):\n",
    "    result=graph.invoke({\"messages\":[{\"role\":\"user\",\"content\":user_input}]})\n",
    "    print(result)\n",
    "    return result[\"messages\"][-1].content\n",
    "\n",
    "gr.ChatInterface(chat,type=\"messages\").launch()\n"
   ]
  },
  {
   "cell_type": "code",
   "execution_count": null,
   "id": "e139bd2c",
   "metadata": {},
   "outputs": [],
   "source": [
    "from langgraph.checkpoint.memory import MemorySaver"
   ]
  },
  {
   "cell_type": "code",
   "execution_count": null,
   "id": "52af610c",
   "metadata": {},
   "outputs": [],
   "source": []
  }
 ],
 "metadata": {
  "kernelspec": {
   "display_name": ".venv",
   "language": "python",
   "name": "python3"
  },
  "language_info": {
   "codemirror_mode": {
    "name": "ipython",
    "version": 3
   },
   "file_extension": ".py",
   "mimetype": "text/x-python",
   "name": "python",
   "nbconvert_exporter": "python",
   "pygments_lexer": "ipython3",
   "version": "3.12.11"
  }
 },
 "nbformat": 4,
 "nbformat_minor": 5
}
